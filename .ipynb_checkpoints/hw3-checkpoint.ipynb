{
 "cells": [
  {
   "cell_type": "code",
   "execution_count": 1,
   "metadata": {},
   "outputs": [],
   "source": [
    "from sklearn.linear_model import LogisticRegression\n",
    "from sklearn.linear_model import Lasso\n",
    "from sklearn.ensemble import RandomForestClassifier\n",
    "from sklearn.metrics import roc_curve, precision_recall_curve, auc\n",
    "\n",
    "from sklearn.model_selection import train_test_split\n",
    "from sklearn.model_selection import KFold\n",
    "\n",
    "from scipy.stats import random_correlation\n",
    "\n",
    "import matplotlib.pyplot as plt\n",
    "\n",
    "import numpy as np\n",
    "import pandas as pd\n",
    "\n",
    "from plotnine import *"
   ]
  },
  {
   "cell_type": "markdown",
   "metadata": {},
   "source": [
    "### 1 Continuous Targets"
   ]
  },
  {
   "cell_type": "markdown",
   "metadata": {},
   "source": [
    "Modify generate Data"
   ]
  },
  {
   "cell_type": "code",
   "execution_count": 2,
   "metadata": {},
   "outputs": [],
   "source": [
    "def generate_data(n: int = 1000,\n",
    "                  p: int = 10,\n",
    "                  beta_range: list[float] = [0, 2],\n",
    "                  sigma: float = 1.0,\n",
    "                  corr: np.array = None) -> tuple:\n",
    "    \"\"\"Generate random features and labels using a linear regression model.\n",
    "\n",
    "    Arguments:\n",
    "    n (int): The number of samples.\n",
    "    p (int): The number of parameters.\n",
    "    beta_range (list[float]): The lower and upper bounds of the coefficients.\n",
    "    corr (np.array): A correlation structure to impose on the features.\n",
    "\n",
    "    Returns:\n",
    "    A tuple (X, y, beta) containing the feature matrix, labels and true betas.\n",
    "    \"\"\"\n",
    "    \n",
    "    np.random.seed(13)\n",
    "    \n",
    "    # Generate random features.\n",
    "    p = int(p)\n",
    "    if corr is None:\n",
    "        covar = np.diag(np.full(p, sigma))\n",
    "    else:\n",
    "        assert(corr.shape[0] == p)\n",
    "        assert(corr.shape[1] == p)\n",
    "        covar = corr * sigma\n",
    "    X = np.random.multivariate_normal(np.zeros(p), covar, n)\n",
    "\n",
    "    # Generate random coefficients.\n",
    "    assert(len(beta_range) == 2)\n",
    "    assert(beta_range[0] <= beta_range[1])\n",
    "    beta = np.random.uniform(size=p, low=beta_range[0], high=beta_range[1])\n",
    "\n",
    "    # Generate normally distributed noise.\n",
    "    noise = np.random.normal(loc=0, scale=sigma, size=n)\n",
    "\n",
    "    # Generate targets based on the linear relationship y = X𝝱 + 𝞮\n",
    "    y = np.dot(X, beta) + noise\n",
    "\n",
    "    return X, y, beta\n",
    "\n",
    "def generate_correlation(p: int = 10) -> np.array:\n",
    "    \"\"\"Generate a correlation matrix based on a random vector of eigenvalues.\n",
    "\n",
    "    Arguments:\n",
    "    p (int): Dimensionality of the correlation matrix.\n",
    "\n",
    "    Returns:\n",
    "    A correlation matrix with shape (p, p).\n",
    "    \"\"\"\n",
    "\n",
    "    p = int(p)\n",
    "    assert(p > 1)\n",
    "    # Generate some uniform random variables.\n",
    "    u = np.random.uniform(size=p)\n",
    "    # Scale the random numbers so that they sum to p.\n",
    "    eigen = u * p / np.sum(u)\n",
    "    # Return correlation.\n",
    "    return random_correlation.rvs(eigen)"
   ]
  },
  {
   "cell_type": "code",
   "execution_count": 3,
   "metadata": {},
   "outputs": [],
   "source": [
    "n = 1000\n",
    "p = 10\n",
    "\n",
    "corr = generate_correlation(p = p)\n",
    "X, y, beta = generate_data(n = n, p = p, corr = corr)"
   ]
  },
  {
   "cell_type": "markdown",
   "metadata": {},
   "source": [
    "### 1.1 Create metrics functions (15pts)\n"
   ]
  },
  {
   "cell_type": "code",
   "execution_count": 4,
   "metadata": {},
   "outputs": [],
   "source": [
    "def rsquared(y: np.array, yhat: np.array) -> float:\n",
    "    \"\"\"\n",
    "    Parameters:\n",
    "    - y: np.array\n",
    "        Observed values.\n",
    "    - yhat: np.array\n",
    "        Predicted values.\n",
    "\n",
    "    Returns:\n",
    "    - float\n",
    "        R-squared value.\n",
    "    \"\"\"\n",
    "    # Calculate the mean of the observed values\n",
    "    y_mean = np.mean(y)\n",
    "\n",
    "    # Calculate the total sum of squares\n",
    "    ss_total = np.sum((y - y_mean) ** 2)\n",
    "\n",
    "    # Calculate the residual sum of squares\n",
    "    ss_residual = np.sum((y - yhat) ** 2)\n",
    "\n",
    "    # Calculate R-squared\n",
    "    r_squared = 1 - (ss_residual / ss_total)\n",
    "\n",
    "    return r_squared\n"
   ]
  },
  {
   "cell_type": "code",
   "execution_count": 5,
   "metadata": {},
   "outputs": [],
   "source": [
    "def mae(y: np.array, yhat: np.array) -> float:\n",
    "    \"\"\"\n",
    "    Calculate Mean Absolute Error (MAE) between observed and predicted values.\n",
    "\n",
    "    Parameters:\n",
    "    - y: np.array\n",
    "        Observed values.\n",
    "    - yhat: np.array\n",
    "        Predicted values.\n",
    "\n",
    "    Returns:\n",
    "    - float\n",
    "        Mean Absolute Error.\n",
    "    \"\"\"\n",
    "    # Calculate the absolute differences between observed and predicted values\n",
    "    ae = np.abs(y - yhat)\n",
    "\n",
    "    return np.mean(ae)"
   ]
  },
  {
   "cell_type": "code",
   "execution_count": 6,
   "metadata": {},
   "outputs": [],
   "source": [
    "def mse(y: np.array, yhat: np.array) -> float:\n",
    "    \"\"\"\n",
    "    Calculate Mean Squared Error (MSE) between observed and predicted values.\n",
    "\n",
    "    Parameters:\n",
    "    - y: np.array\n",
    "        Observed values.\n",
    "    - yhat: np.array\n",
    "        Predicted values.\n",
    "\n",
    "    Returns:\n",
    "    - float\n",
    "        Mean Squared Error.\n",
    "    \"\"\"\n",
    "    # Calculate the squared differences between observed and predicted values\n",
    "    se = (y - yhat) ** 2\n",
    "\n",
    "    return np.mean(se)"
   ]
  },
  {
   "cell_type": "code",
   "execution_count": 7,
   "metadata": {},
   "outputs": [],
   "source": [
    "def rmse(y: np.array, yhat: np.array) -> float:\n",
    "    \"\"\"\n",
    "    Calculate Root Mean Squared Error (RMSE) between observed and predicted values.\n",
    "\n",
    "    Parameters:\n",
    "    - y: np.array\n",
    "        Observed values.\n",
    "    - yhat: np.array\n",
    "        Predicted values.\n",
    "\n",
    "    Returns:\n",
    "    - float\n",
    "        Root Mean Squared Error.\n",
    "    \"\"\"\n",
    "    # Calculate the squared differences between observed and predicted values\n",
    "    se = (y - yhat) ** 2\n",
    "\n",
    "    # Calculate the mean squared error\n",
    "    mse = np.mean(se)\n",
    "\n",
    "    return np.sqrt(mse)"
   ]
  },
  {
   "cell_type": "markdown",
   "metadata": {},
   "source": [
    "Validation with sklearn"
   ]
  },
  {
   "cell_type": "code",
   "execution_count": 8,
   "metadata": {},
   "outputs": [
    {
     "name": "stdout",
     "output_type": "stream",
     "text": [
      "MAE: sklearn=0.07211163129546802, custom=0.07211163129546802\n",
      "MSE: sklearn=0.008251067799079387, custom=0.008251067799079387\n",
      "RMSE: sklearn=0.09083538847321228, custom=0.09083538847321228\n",
      "R-squared: sklearn=0.9058258004700179, custom=0.9058258004700179\n"
     ]
    }
   ],
   "source": [
    "from sklearn.metrics import mean_absolute_error, mean_squared_error, r2_score\n",
    "\n",
    "# Generate some example data\n",
    "np.random.seed(42)\n",
    "y_true = np.random.rand(100)\n",
    "y_pred = y_true + 0.1 * np.random.randn(100)  # Adding some random noise\n",
    "\n",
    "# Validate with scikit-learn functions\n",
    "sklearn_mae = mean_absolute_error(y_true, y_pred)\n",
    "sklearn_mse = mean_squared_error(y_true, y_pred)\n",
    "sklearn_rmse = np.sqrt(sklearn_mse)\n",
    "sklearn_r2 = r2_score(y_true, y_pred)\n",
    "\n",
    "# Validate with your custom functions\n",
    "custom_mae = mae(y_true, y_pred)\n",
    "custom_mse = mse(y_true, y_pred)\n",
    "custom_rmse = rmse(y_true, y_pred)\n",
    "custom_r2 = rsquared(y_true, y_pred)\n",
    "\n",
    "# Compare the results\n",
    "print(f\"MAE: sklearn={sklearn_mae}, custom={custom_mae}\")\n",
    "print(f\"MSE: sklearn={sklearn_mse}, custom={custom_mse}\")\n",
    "print(f\"RMSE: sklearn={sklearn_rmse}, custom={custom_rmse}\")\n",
    "print(f\"R-squared: sklearn={sklearn_r2}, custom={custom_r2}\")"
   ]
  },
  {
   "cell_type": "markdown",
   "metadata": {},
   "source": [
    "### 1.2 Lasso regression (15 pts)"
   ]
  },
  {
   "cell_type": "markdown",
   "metadata": {},
   "source": [
    "Using your simulated data in the introduction of this problem perform the following:\n",
    "- Use alpha values given by np.arange(0.00005, 0.04, 0.005).\n",
    "- Use train_test_split on (y, X) to create a 80% train/val, 20% test set. \n",
    "- Perform a KFold cross validation on the train/val using:\n",
    "    - cv = KFold(n_splits = 5, random_state = 13, shuffle = True)\n",
    "    \n",
    "- For each fold perform Lasso regression for a given alpha and compute R2, MAE, and RMSE.\n",
    "- Take the average of each metric across folds (see get_cross_valid_scores from  Homework 1 solutions as an example).\n"
   ]
  },
  {
   "cell_type": "code",
   "execution_count": 9,
   "metadata": {},
   "outputs": [],
   "source": [
    "# alpha values given by np.arange(0.00005, 0.04, 0.005)\n",
    "alpha = np.arange(0.00005, 0.04, 0.005)"
   ]
  },
  {
   "cell_type": "code",
   "execution_count": 10,
   "metadata": {},
   "outputs": [],
   "source": [
    "# train_test_split on (y, X) to create a 80% train/val, 20% test set. \n",
    "X_train_val, X_test, y_train_val, y_test = train_test_split(X, y, test_size=0.2, random_state=13)"
   ]
  },
  {
   "cell_type": "code",
   "execution_count": 11,
   "metadata": {},
   "outputs": [],
   "source": [
    "def get_cross_valid_scores(\n",
    "    cv: KFold,\n",
    "    X: np.array,\n",
    "    Y: np.array,\n",
    "    alpha: float = 0.001) -> float:\n",
    "    \"\"\"A more correct way of getting the cross-validation R^2 values.\n",
    "    Arguments:\n",
    "        cv (KFold): An object of class 'KFold'.\n",
    "        X (np.array): A numpy array with dimensions (n, p) containing the features.\n",
    "        Y (np.array): A numpy array with dimensions (n, ) containing the targets.\n",
    "        alpha (float): The regularization parameter used in the Lasso.\n",
    "    Returns:\n",
    "        An average of R^2 values across the k folds.\n",
    "    \"\"\"\n",
    "    r2_scores = []\n",
    "    mae_scores = []\n",
    "    rmse_scores = []\n",
    "\n",
    "    # Check if this is a data frame and convert if necessary.\n",
    "    if not isinstance(X, pd.DataFrame):\n",
    "        X = pd.DataFrame(X)\n",
    "\n",
    "    # Loop over splits.\n",
    "    for train_index, test_index in cv.split(X.values):\n",
    "        X_train, X_test = X.values[train_index], X.values[test_index]\n",
    "        Y_train, Y_test = Y[train_index], Y[test_index]\n",
    "\n",
    "        # Fit Lasso to scaled training data.\n",
    "        reg = Lasso(alpha=alpha).fit(X_train, Y_train)\n",
    "\n",
    "        # Predict on test.\n",
    "        Y_test_hat = reg.predict(X_test)\n",
    "\n",
    "        # Compute R^2 and append to return array.\n",
    "        r2 = rsquared(Y_test, Y_test_hat)\n",
    "        r2_scores.append(r2)\n",
    "\n",
    "        # Compute MAE and append to return array.\n",
    "        mae_score = mae(Y_test, Y_test_hat)\n",
    "        mae_scores.append(mae_score)\n",
    "\n",
    "        # Compute MAE and append to return array.\n",
    "        rmse_score = rmse(Y_test, Y_test_hat)\n",
    "        rmse_scores.append(rmse_score)\n",
    "\n",
    "    return np.mean(r2_scores), np.mean(mae_scores), np.mean(rmse_scores)"
   ]
  },
  {
   "cell_type": "code",
   "execution_count": 12,
   "metadata": {},
   "outputs": [
    {
     "name": "stdout",
     "output_type": "stream",
     "text": [
      "Alpha:5e-05 R-squared: 0.93176001341329 MAE:0.7847758531682717 RMSE:0.996653122415631\n",
      "Alpha:0.00505 R-squared: 0.9317367994570132 MAE:0.7852537053434198 RMSE:0.996839451387881\n",
      "Alpha:0.01005 R-squared: 0.9316558300481358 MAE:0.7861247980718581 RMSE:0.99744158521037\n",
      "Alpha:0.01505 R-squared: 0.9315168845906365 MAE:0.7874723862247871 RMSE:0.9984597704342868\n",
      "Alpha:0.02005 R-squared: 0.9313199637108284 MAE:0.7892511606295791 RMSE:0.9998928054902846\n",
      "Alpha:0.02505 R-squared: 0.9310650677512852 MAE:0.7911708686275711 RMSE:1.0017389983736702\n",
      "Alpha:0.03005 R-squared: 0.9307521962874615 MAE:0.793275793433374 RMSE:1.0039961796684809\n",
      "Alpha:0.03505 R-squared: 0.9303813492539019 MAE:0.7955847699218412 RMSE:1.006661705617367\n"
     ]
    }
   ],
   "source": [
    "cv = KFold(n_splits = 5, random_state = 13, shuffle = True)\n",
    "scores = []\n",
    "\n",
    "for a in alpha:\n",
    "    r2_score, mae_score, rmse_score = get_cross_valid_scores(cv, X_train_val, y_train_val, alpha=a)\n",
    "    print(f\"Alpha:{round(a,5)} R-squared: {r2_score} MAE:{mae_score} RMSE:{rmse_score}\")\n",
    "    scores.append([str(round(a,5)), r2_score, mae_score, rmse_score])\n",
    "    "
   ]
  },
  {
   "cell_type": "markdown",
   "metadata": {},
   "source": [
    "### 1.3 Determine the best alpha for each metric (10 pts)\n"
   ]
  },
  {
   "cell_type": "code",
   "execution_count": 13,
   "metadata": {},
   "outputs": [
    {
     "data": {
      "text/html": [
       "<div>\n",
       "<style scoped>\n",
       "    .dataframe tbody tr th:only-of-type {\n",
       "        vertical-align: middle;\n",
       "    }\n",
       "\n",
       "    .dataframe tbody tr th {\n",
       "        vertical-align: top;\n",
       "    }\n",
       "\n",
       "    .dataframe thead th {\n",
       "        text-align: right;\n",
       "    }\n",
       "</style>\n",
       "<table border=\"1\" class=\"dataframe\">\n",
       "  <thead>\n",
       "    <tr style=\"text-align: right;\">\n",
       "      <th></th>\n",
       "      <th>alpha</th>\n",
       "      <th>r2</th>\n",
       "      <th>mae</th>\n",
       "      <th>rmse</th>\n",
       "    </tr>\n",
       "  </thead>\n",
       "  <tbody>\n",
       "    <tr>\n",
       "      <th>0</th>\n",
       "      <td>5e-05</td>\n",
       "      <td>0.931760</td>\n",
       "      <td>0.784776</td>\n",
       "      <td>0.996653</td>\n",
       "    </tr>\n",
       "    <tr>\n",
       "      <th>1</th>\n",
       "      <td>0.00505</td>\n",
       "      <td>0.931737</td>\n",
       "      <td>0.785254</td>\n",
       "      <td>0.996839</td>\n",
       "    </tr>\n",
       "    <tr>\n",
       "      <th>2</th>\n",
       "      <td>0.01005</td>\n",
       "      <td>0.931656</td>\n",
       "      <td>0.786125</td>\n",
       "      <td>0.997442</td>\n",
       "    </tr>\n",
       "    <tr>\n",
       "      <th>3</th>\n",
       "      <td>0.01505</td>\n",
       "      <td>0.931517</td>\n",
       "      <td>0.787472</td>\n",
       "      <td>0.998460</td>\n",
       "    </tr>\n",
       "    <tr>\n",
       "      <th>4</th>\n",
       "      <td>0.02005</td>\n",
       "      <td>0.931320</td>\n",
       "      <td>0.789251</td>\n",
       "      <td>0.999893</td>\n",
       "    </tr>\n",
       "    <tr>\n",
       "      <th>5</th>\n",
       "      <td>0.02505</td>\n",
       "      <td>0.931065</td>\n",
       "      <td>0.791171</td>\n",
       "      <td>1.001739</td>\n",
       "    </tr>\n",
       "    <tr>\n",
       "      <th>6</th>\n",
       "      <td>0.03005</td>\n",
       "      <td>0.930752</td>\n",
       "      <td>0.793276</td>\n",
       "      <td>1.003996</td>\n",
       "    </tr>\n",
       "    <tr>\n",
       "      <th>7</th>\n",
       "      <td>0.03505</td>\n",
       "      <td>0.930381</td>\n",
       "      <td>0.795585</td>\n",
       "      <td>1.006662</td>\n",
       "    </tr>\n",
       "  </tbody>\n",
       "</table>\n",
       "</div>"
      ],
      "text/plain": [
       "     alpha        r2       mae      rmse\n",
       "0    5e-05  0.931760  0.784776  0.996653\n",
       "1  0.00505  0.931737  0.785254  0.996839\n",
       "2  0.01005  0.931656  0.786125  0.997442\n",
       "3  0.01505  0.931517  0.787472  0.998460\n",
       "4  0.02005  0.931320  0.789251  0.999893\n",
       "5  0.02505  0.931065  0.791171  1.001739\n",
       "6  0.03005  0.930752  0.793276  1.003996\n",
       "7  0.03505  0.930381  0.795585  1.006662"
      ]
     },
     "execution_count": 13,
     "metadata": {},
     "output_type": "execute_result"
    }
   ],
   "source": [
    "df_score = pd.DataFrame(scores, columns=['alpha','r2','mae','rmse'])\n",
    "df_score"
   ]
  },
  {
   "cell_type": "markdown",
   "metadata": {},
   "source": [
    "Create a plot of your 3 metrics vs. each alpha."
   ]
  },
  {
   "cell_type": "code",
   "execution_count": 14,
   "metadata": {},
   "outputs": [
    {
     "data": {
      "image/png": "[encoded data removed]",
      "text/plain": [
       "<Figure size 640x480 with 1 Axes>"
      ]
     },
     "metadata": {},
     "output_type": "display_data"
    }
   ],
   "source": [
    "# Create a bar plot\n",
    "plt.bar(df_score['alpha'], df_score['r2'], color='skyblue')\n",
    "\n",
    "# Add labels and title\n",
    "plt.xticks(rotation=90)\n",
    "plt.xlabel('alpha')\n",
    "plt.ylabel('score')\n",
    "plt.title('R2 score for each alpha')\n",
    "\n",
    "plt.ylim(.93, .932)\n",
    "\n",
    "# Display the plot\n",
    "plt.show()"
   ]
  },
  {
   "cell_type": "code",
   "execution_count": 15,
   "metadata": {},
   "outputs": [
    {
     "data": {
      "image/png": "[encoded data removed]",
      "text/plain": [
       "<Figure size 640x480 with 1 Axes>"
      ]
     },
     "metadata": {},
     "output_type": "display_data"
    }
   ],
   "source": [
    "# Create a bar plot\n",
    "plt.bar(df_score['alpha'], df_score['mae'], color='skyblue')\n",
    "\n",
    "# Add labels and title\n",
    "plt.xticks(rotation=90)\n",
    "plt.xlabel('alpha')\n",
    "plt.ylabel('score')\n",
    "plt.title('mae score for each alpha')\n",
    "\n",
    "plt.ylim(.78, .80)\n",
    "\n",
    "# Display the plot\n",
    "plt.show()"
   ]
  },
  {
   "cell_type": "code",
   "execution_count": 16,
   "metadata": {},
   "outputs": [
    {
     "data": {
      "image/png": "[encoded data removed]",
      "text/plain": [
       "<Figure size 640x480 with 1 Axes>"
      ]
     },
     "metadata": {},
     "output_type": "display_data"
    }
   ],
   "source": [
    "# Create a bar plot\n",
    "plt.bar(df_score['alpha'], df_score['rmse'], color='skyblue')\n",
    "\n",
    "# Add labels and title\n",
    "plt.xticks(rotation=90)\n",
    "plt.xlabel('alpha')\n",
    "plt.ylabel('score')\n",
    "plt.title('rmse score for each alpha')\n",
    "\n",
    "plt.ylim(.99, 1.01)\n",
    "\n",
    "# Display the plot\n",
    "plt.show()"
   ]
  },
  {
   "cell_type": "markdown",
   "metadata": {},
   "source": [
    "Which alpha is the best for each metric?"
   ]
  },
  {
   "cell_type": "markdown",
   "metadata": {},
   "source": [
    "Ans:\n",
    "- R square: 0.00005\n",
    "- MAE: 0.00005\n",
    "- RMSE: 0.00005"
   ]
  },
  {
   "cell_type": "markdown",
   "metadata": {},
   "source": [
    "Do they agree? If not, explain why."
   ]
  },
  {
   "cell_type": "markdown",
   "metadata": {},
   "source": [
    "Ans: Yes they agree"
   ]
  },
  {
   "cell_type": "markdown",
   "metadata": {},
   "source": [
    "### 1.4 Compute metrics on test (10 pts)"
   ]
  },
  {
   "cell_type": "markdown",
   "metadata": {},
   "source": [
    "Use your best alpha(s) to report your three metrics on the test."
   ]
  },
  {
   "cell_type": "code",
   "execution_count": 17,
   "metadata": {},
   "outputs": [
    {
     "data": {
      "text/plain": [
       "0.935982928268013"
      ]
     },
     "execution_count": 17,
     "metadata": {},
     "output_type": "execute_result"
    }
   ],
   "source": [
    "# R square\n",
    "reg = Lasso(alpha=0.00005).fit(X_train_val, y_train_val)\n",
    "# Predict on test.\n",
    "Y_test_hat = reg.predict(X_test)\n",
    "\n",
    "# Compute R^2 and append to return array.\n",
    "r2 = rsquared(y_test, Y_test_hat)\n",
    "r2"
   ]
  },
  {
   "cell_type": "code",
   "execution_count": 18,
   "metadata": {},
   "outputs": [
    {
     "data": {
      "text/plain": [
       "0.7566508432943244"
      ]
     },
     "execution_count": 18,
     "metadata": {},
     "output_type": "execute_result"
    }
   ],
   "source": [
    "# MAE\n",
    "# Compute MAE and append to return array.\n",
    "mae_test = mae(y_test, Y_test_hat)\n",
    "mae_test"
   ]
  },
  {
   "cell_type": "code",
   "execution_count": 19,
   "metadata": {},
   "outputs": [
    {
     "data": {
      "text/plain": [
       "0.9576522655911064"
      ]
     },
     "execution_count": 19,
     "metadata": {},
     "output_type": "execute_result"
    }
   ],
   "source": [
    "# RMSE\n",
    "# Compute MAE and append to return array.\n",
    "mae_test = rmse(y_test, Y_test_hat)\n",
    "mae_test"
   ]
  },
  {
   "cell_type": "markdown",
   "metadata": {},
   "source": [
    "How different are they from training (problem 1.2)?"
   ]
  },
  {
   "cell_type": "markdown",
   "metadata": {},
   "source": [
    "- R square  Training: 0.931760 / Testing: 0.93598\n",
    "- MAE       Training: 0.784776 / Testing: 0.75665\n",
    "- RMSE      Training: 0.996653 / Testing: 0.95765"
   ]
  },
  {
   "cell_type": "markdown",
   "metadata": {},
   "source": [
    "If you came up with different models (i.e. a different alpha for each metric), create predictions from each model. Produce a pairwise correlation matrix of the three outcomes and comment. If you found that all three metrics agreed on the same alpha, comment on that as well."
   ]
  },
  {
   "cell_type": "markdown",
   "metadata": {},
   "source": [
    "They all have same alpha, meaning that using different matrics all have same result on choosing alpha"
   ]
  },
  {
   "cell_type": "markdown",
   "metadata": {},
   "source": [
    "### 2.1 Create metrics functions (15 pts)"
   ]
  },
  {
   "cell_type": "code",
   "execution_count": 20,
   "metadata": {},
   "outputs": [],
   "source": [
    "def roc_score(y: np.array, yhat: np.array, thresh: float = 0.5) -> tuple:\n",
    "    \"\"\"\n",
    "    Compute False Positive Rate (FPR) and True Positive Rate (TPR) for a given threshold.\n",
    "\n",
    "    Parameters:\n",
    "    - y: np.array, actual labels (binary)\n",
    "    - yhat: np.array, predicted probabilities or labels\n",
    "    - thresh: float, threshold for classifying positive/negative\n",
    "\n",
    "    Returns:\n",
    "    Tuple of False Positive Rate (FPR) and True Positive Rate (TPR)\n",
    "    \"\"\"\n",
    "    y_pred = (yhat >= thresh).astype(int)\n",
    "    total_positive = np.sum(y)\n",
    "    total_negative = len(y) - total_positive\n",
    "    true_positive = np.sum((y == 1) & (y_pred == 1))\n",
    "    false_positive = np.sum((y == 0) & (y_pred == 1))\n",
    "\n",
    "    fpr = false_positive / total_negative\n",
    "    tpr = true_positive / total_positive\n",
    "\n",
    "    return (fpr, tpr)"
   ]
  },
  {
   "cell_type": "code",
   "execution_count": 21,
   "metadata": {},
   "outputs": [],
   "source": [
    "def precision(y: np.array, yhat: np.array, thresh: float = 0.5) -> float:\n",
    "    \"\"\"\n",
    "    Compute Precision for a given threshold.\n",
    "\n",
    "    Parameters:\n",
    "    - y: np.array, actual labels (binary)\n",
    "    - yhat: np.array, predicted probabilities or labels\n",
    "    - thresh: float, threshold for classifying positive/negative\n",
    "\n",
    "    Returns:\n",
    "    Precision as a float\n",
    "    \"\"\"\n",
    "    y_pred = (yhat >= thresh).astype(int)\n",
    "    true_positive = np.sum((y == 1) & (y_pred == 1))\n",
    "    false_positive = np.sum((y == 0) & (y_pred == 1))\n",
    "\n",
    "    if true_positive + false_positive == 0:\n",
    "        return 0.0\n",
    "    else:\n",
    "        precision_value = true_positive / (true_positive + false_positive)\n",
    "        return precision_value"
   ]
  },
  {
   "cell_type": "code",
   "execution_count": 22,
   "metadata": {},
   "outputs": [],
   "source": [
    "def recall(y: np.array, yhat: np.array, thresh: float = 0.5) -> float:\n",
    "    \"\"\"\n",
    "    Compute Recall for a given threshold.\n",
    "\n",
    "    Parameters:\n",
    "    - y: np.array, actual labels (binary)\n",
    "    - yhat: np.array, predicted probabilities or labels\n",
    "    - thresh: float, threshold for classifying positive/negative\n",
    "\n",
    "    Returns:\n",
    "    Recall as a float\n",
    "    \"\"\"\n",
    "    y_pred = (yhat >= thresh).astype(int)\n",
    "    true_positive = np.sum((y == 1) & (y_pred == 1))\n",
    "    false_negative = np.sum((y == 1) & (y_pred == 0))\n",
    "\n",
    "    if true_positive + false_negative == 0:\n",
    "        return 0.0\n",
    "    else:\n",
    "        recall_value = true_positive / (true_positive + false_negative)\n",
    "        return recall_value"
   ]
  },
  {
   "cell_type": "code",
   "execution_count": 23,
   "metadata": {},
   "outputs": [],
   "source": [
    "def f_score(y: np.array, yhat: np.array, thresh: float = 0.5, beta: float = 1.) -> float:\n",
    "    \"\"\"\n",
    "    Compute Fβ Score for a given threshold.\n",
    "\n",
    "    Parameters:\n",
    "    - y: np.array, actual labels (binary)\n",
    "    - yhat: np.array, predicted probabilities or labels\n",
    "    - thresh: float, threshold for classifying positive/negative\n",
    "    - beta: float, positive constant to control the tradeoff between precision and recall\n",
    "\n",
    "    Returns:\n",
    "    Fβ Score as a float\n",
    "    \"\"\"\n",
    "    y_pred = (yhat >= thresh).astype(int)\n",
    "    true_positive = np.sum((y == 1) & (y_pred == 1))\n",
    "    false_positive = np.sum((y == 0) & (y_pred == 1))\n",
    "    false_negative = np.sum((y == 1) & (y_pred == 0))\n",
    "\n",
    "    if true_positive + false_positive == 0:\n",
    "        precision_value = 0\n",
    "    else:   precision_value = true_positive / (true_positive + false_positive)\n",
    "    if true_positive + false_negative == 0:\n",
    "        recall_value = 0.0\n",
    "    else:   recall_value = true_positive / (true_positive + false_negative)\n",
    "\n",
    "    if precision_value + recall_value == 0:\n",
    "        return 0.0\n",
    "    else:\n",
    "        f_beta_score = (1 + beta**2) * (precision_value * recall_value) / ((beta**2 * precision_value) + recall_value)\n",
    "        return f_beta_score"
   ]
  },
  {
   "cell_type": "markdown",
   "metadata": {},
   "source": [
    "sklearn debug"
   ]
  },
  {
   "cell_type": "code",
   "execution_count": 24,
   "metadata": {},
   "outputs": [
    {
     "name": "stdout",
     "output_type": "stream",
     "text": [
      "All functions passed the sklearn validation.\n"
     ]
    }
   ],
   "source": [
    "from sklearn.metrics import roc_curve, precision_score, recall_score, fbeta_score\n",
    "\n",
    "# Generate some example data\n",
    "np.random.seed(42)\n",
    "y_actual = np.random.randint(2, size=100)\n",
    "y_predicted = np.random.rand(100)\n",
    "\n",
    "# Checking roc_score:\n",
    "sk_fpr, sk_tpr, thresh = roc_curve(y_actual, y_predicted)\n",
    "\n",
    "i = 0\n",
    "for t in thresh:\n",
    "    fpr, tpr = roc_score(y_actual, y_predicted, t)\n",
    "    assert np.allclose(fpr, sk_fpr[i]), \"ROC FPR values are not close\"\n",
    "    assert np.allclose(tpr, sk_tpr[i]), \"ROC TPR values are not close\"\n",
    "    i += 1\n",
    "\n",
    "# Checking precision:\n",
    "prec = precision(y_actual, y_predicted)\n",
    "sk_prec = precision_score(y_actual, (y_predicted >= 0.5).astype(int))\n",
    "assert np.isclose(prec, sk_prec), \"Precision values are not close\"\n",
    "\n",
    "# Checking recall:\n",
    "rec = recall(y_actual, y_predicted)\n",
    "sk_rec = recall_score(y_actual, (y_predicted >= 0.5).astype(int))\n",
    "assert np.isclose(rec, sk_rec), \"Recall values are not close\"\n",
    "\n",
    "# Checking f_score:\n",
    "f_beta = f_score(y_actual, y_predicted, beta=2)\n",
    "sk_f_beta = fbeta_score(y_actual, (y_predicted >= 0.5).astype(int), beta=2)\n",
    "assert np.isclose(f_beta, sk_f_beta), \"F2 Score values are not close\"\n",
    "\n",
    "print(\"All functions passed the sklearn validation.\")"
   ]
  },
  {
   "cell_type": "markdown",
   "metadata": {},
   "source": [
    "### 2.1 Compute your metrics some sample data (20 pts)"
   ]
  },
  {
   "cell_type": "markdown",
   "metadata": {},
   "source": [
    "Using the thresholds [1.863, 0.863, 0.83 , 0.788, 0.601, 0.323, 0.28 , 0.277], construct the ROC, Precision, Recall, and F1 score for the following data:"
   ]
  },
  {
   "cell_type": "code",
   "execution_count": 25,
   "metadata": {},
   "outputs": [
    {
     "name": "stdout",
     "output_type": "stream",
     "text": [
      "1.863 ROC:[(0.0, 0.0)]\n",
      "0.863 ROC:[(0.0, 0.25)]\n",
      "0.83 ROC:[(0.0, 0.5)]\n",
      "0.788 ROC:[(0.1667, 0.5)]\n",
      "0.601 ROC:[(0.1667, 0.75)]\n",
      "0.323 ROC:[(0.8333, 0.75)]\n",
      "0.28 ROC:[(0.8333, 1.0)]\n",
      "0.277 ROC:[(1.0, 1.0)]\n",
      "\n",
      "\n",
      "0.277 Precision:0.4 Recall:1.0 F1:0.5714\n",
      "0.28 Precision:0.4444 Recall:1.0 F1:0.6154\n",
      "0.323 Precision:0.375 Recall:0.75 F1:0.5\n",
      "0.348 Precision:0.4286 Recall:0.75 F1:0.5455\n",
      "0.367 Precision:0.5 Recall:0.75 F1:0.6\n",
      "0.441 Precision:0.6 Recall:0.75 F1:0.6667\n",
      "0.601 Precision:0.75 Recall:0.75 F1:0.75\n",
      "0.788 Precision:0.6667 Recall:0.5 F1:0.5714\n",
      "0.83 Precision:1.0 Recall:0.5 F1:0.6667\n",
      "0.863 Precision:1.0 Recall:0.25 F1:0.4\n"
     ]
    }
   ],
   "source": [
    "y = np.array([0, 1, 1, 0, 0, 0, 1, 0, 0, 1])\n",
    "yhat = np.array([0.367, 0.863, 0.830, 0.277, 0.788, 0.348, 0.601, 0.441, 0.323, 0.280])\n",
    "roc_thresholds = [1.863, 0.863, 0.83 , 0.788, 0.601, 0.323, 0.28 , 0.277]\n",
    "thresholds = [0.277, 0.28, 0.323, 0.348, 0.367, 0.441, 0.601, 0.788, 0.83, 0.863]\n",
    "fpr = []\n",
    "tpr = []\n",
    "prec_l = []\n",
    "rec_l = []\n",
    "\n",
    "for t in roc_thresholds:\n",
    "    roc = roc_score(y, yhat, t)\n",
    "    print(f'{t} ROC:[{round(roc[0],4),round(roc[1],4)}]')\n",
    "    fpr.append(roc[0])\n",
    "    tpr.append(roc[1])\n",
    "\n",
    "print('\\n')\n",
    "\n",
    "for t in thresholds:\n",
    "    roc = roc_score(y, yhat, t)\n",
    "    prec = precision(y, yhat, t)\n",
    "    rec = recall(y, yhat, t)\n",
    "    f1 = f_score(y, yhat, t)\n",
    "    print(f'{t} Precision:{round(prec,4)} Recall:{round(rec,4)} F1:{round(f1,4)}')\n",
    "    fpr.append(roc[0])\n",
    "    tpr.append(roc[1])\n",
    "    prec_l.append(prec)\n",
    "    rec_l.append(rec)"
   ]
  },
  {
   "cell_type": "markdown",
   "metadata": {},
   "source": [
    "### 2.2 Plot the curves and determine AUROC and AUPRC (10 pts)"
   ]
  },
  {
   "cell_type": "markdown",
   "metadata": {},
   "source": [
    "Plot the curves and determine AUROC and AUPRC for the data in 2.1. You can use sklearn.auc for this exercise. Comment on your findings."
   ]
  },
  {
   "cell_type": "code",
   "execution_count": 26,
   "metadata": {},
   "outputs": [
    {
     "data": {
      "image/png": "[encoded data removed]",
      "text/plain": [
       "<Figure size 800x800 with 1 Axes>"
      ]
     },
     "metadata": {},
     "output_type": "display_data"
    }
   ],
   "source": [
    "plt.figure(figsize=(8, 8))\n",
    "plt.plot(fpr, tpr, color='darkorange', lw=2)\n",
    "plt.plot([0, 1], [0, 1], color='navy', lw=2, linestyle='--', label='Random Guessing')\n",
    "plt.xlabel('False Positive Rate')\n",
    "plt.ylabel('True Positive Rate')\n",
    "plt.title('Receiver Operating Characteristic (ROC) Curve')\n",
    "plt.legend(loc='lower right')\n",
    "plt.show()"
   ]
  },
  {
   "cell_type": "markdown",
   "metadata": {},
   "source": [
    "Finding: For some certain roc thresholds, the performance is worse than random guessing."
   ]
  },
  {
   "cell_type": "code",
   "execution_count": 27,
   "metadata": {},
   "outputs": [
    {
     "data": {
      "image/png": "[encoded data removed]",
      "text/plain": [
       "<Figure size 800x800 with 1 Axes>"
      ]
     },
     "metadata": {},
     "output_type": "display_data"
    }
   ],
   "source": [
    "plt.figure(figsize=(8, 8))\n",
    "plt.plot(rec_l, prec_l, color='darkorange', lw=2)\n",
    "# plt.step(rec_l, prec_l, color='b', alpha=0.2, where='post')\n",
    "# plt.fill_between(rec_l, prec_l, step='post', alpha=0.2, color='b')\n",
    "plt.xlabel('Recall')\n",
    "plt.ylabel('Precision')\n",
    "plt.title('Precision-Recall Curve (AUPRC)')\n",
    "plt.show()"
   ]
  },
  {
   "cell_type": "markdown",
   "metadata": {},
   "source": [
    "Finding: The precision and recall is a kind of tradeoff. So the line looks kind of downward-sloping."
   ]
  },
  {
   "cell_type": "code",
   "execution_count": null,
   "metadata": {},
   "outputs": [],
   "source": []
  }
 ],
 "metadata": {
  "kernelspec": {
   "display_name": "Python 3 (ipykernel)",
   "language": "python",
   "name": "python3"
  },
  "language_info": {
   "codemirror_mode": {
    "name": "ipython",
    "version": 3
   },
   "file_extension": ".py",
   "mimetype": "text/x-python",
   "name": "python",
   "nbconvert_exporter": "python",
   "pygments_lexer": "ipython3",
   "version": "3.11.5"
  }
 },
 "nbformat": 4,
 "nbformat_minor": 2
}
