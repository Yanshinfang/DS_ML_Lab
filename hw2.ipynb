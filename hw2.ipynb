{
 "cells": [
  {
   "cell_type": "code",
   "execution_count": 2,
   "metadata": {},
   "outputs": [],
   "source": [
    "import numpy as np\n",
    "import pandas as pd\n",
    "import matplotlib.pyplot as plt\n",
    "\n",
    "from sklearn.model_selection import train_test_split\n",
    "from sklearn.ensemble import RandomForestClassifier\n",
    "from sklearn.model_selection import RandomizedSearchCV\n",
    "from sklearn.model_selection import cross_val_score, KFold\n",
    "from sklearn.preprocessing import LabelEncoder\n",
    "from sklearn.feature_extraction import FeatureHasher\n",
    "from sklearn.metrics import roc_auc_score\n",
    "\n",
    "from plotnine import *\n",
    "\n",
    "pd.options.mode.chained_assignment = None  # default='warn'\n",
    "\n",
    "# Ignore all future warnings\n",
    "import warnings\n",
    "warnings.simplefilter(action='ignore', category=FutureWarning)"
   ]
  },
  {
   "cell_type": "markdown",
   "metadata": {},
   "source": [
    "### 1. Tuning the Hashing Dimension"
   ]
  },
  {
   "cell_type": "markdown",
   "metadata": {},
   "source": [
    "Using the train.csv dataset from Lab 3, split the data into training, validation, and testing sets, using test_train_split and setting the random state equal to 5."
   ]
  },
  {
   "cell_type": "code",
   "execution_count": 3,
   "metadata": {},
   "outputs": [
    {
     "data": {
      "text/html": [
       "<div>\n",
       "<style scoped>\n",
       "    .dataframe tbody tr th:only-of-type {\n",
       "        vertical-align: middle;\n",
       "    }\n",
       "\n",
       "    .dataframe tbody tr th {\n",
       "        vertical-align: top;\n",
       "    }\n",
       "\n",
       "    .dataframe thead th {\n",
       "        text-align: right;\n",
       "    }\n",
       "</style>\n",
       "<table border=\"1\" class=\"dataframe\">\n",
       "  <thead>\n",
       "    <tr style=\"text-align: right;\">\n",
       "      <th></th>\n",
       "      <th>bin_0</th>\n",
       "      <th>bin_1</th>\n",
       "      <th>bin_2</th>\n",
       "      <th>bin_3</th>\n",
       "      <th>bin_4</th>\n",
       "      <th>nom_0</th>\n",
       "      <th>nom_1</th>\n",
       "      <th>nom_2</th>\n",
       "      <th>nom_3</th>\n",
       "      <th>nom_4</th>\n",
       "      <th>...</th>\n",
       "      <th>nom_9</th>\n",
       "      <th>ord_0</th>\n",
       "      <th>ord_1</th>\n",
       "      <th>ord_2</th>\n",
       "      <th>ord_3</th>\n",
       "      <th>ord_4</th>\n",
       "      <th>ord_5</th>\n",
       "      <th>day</th>\n",
       "      <th>month</th>\n",
       "      <th>target</th>\n",
       "    </tr>\n",
       "  </thead>\n",
       "  <tbody>\n",
       "    <tr>\n",
       "      <th>0</th>\n",
       "      <td>0</td>\n",
       "      <td>0</td>\n",
       "      <td>0</td>\n",
       "      <td>T</td>\n",
       "      <td>Y</td>\n",
       "      <td>Green</td>\n",
       "      <td>Triangle</td>\n",
       "      <td>Snake</td>\n",
       "      <td>Finland</td>\n",
       "      <td>Bassoon</td>\n",
       "      <td>...</td>\n",
       "      <td>2f4cb3d51</td>\n",
       "      <td>2</td>\n",
       "      <td>Grandmaster</td>\n",
       "      <td>Cold</td>\n",
       "      <td>h</td>\n",
       "      <td>D</td>\n",
       "      <td>kr</td>\n",
       "      <td>2</td>\n",
       "      <td>2</td>\n",
       "      <td>0</td>\n",
       "    </tr>\n",
       "    <tr>\n",
       "      <th>1</th>\n",
       "      <td>0</td>\n",
       "      <td>1</td>\n",
       "      <td>0</td>\n",
       "      <td>T</td>\n",
       "      <td>Y</td>\n",
       "      <td>Green</td>\n",
       "      <td>Trapezoid</td>\n",
       "      <td>Hamster</td>\n",
       "      <td>Russia</td>\n",
       "      <td>Piano</td>\n",
       "      <td>...</td>\n",
       "      <td>f83c56c21</td>\n",
       "      <td>1</td>\n",
       "      <td>Grandmaster</td>\n",
       "      <td>Hot</td>\n",
       "      <td>a</td>\n",
       "      <td>A</td>\n",
       "      <td>bF</td>\n",
       "      <td>7</td>\n",
       "      <td>8</td>\n",
       "      <td>0</td>\n",
       "    </tr>\n",
       "    <tr>\n",
       "      <th>2</th>\n",
       "      <td>0</td>\n",
       "      <td>0</td>\n",
       "      <td>0</td>\n",
       "      <td>F</td>\n",
       "      <td>Y</td>\n",
       "      <td>Blue</td>\n",
       "      <td>Trapezoid</td>\n",
       "      <td>Lion</td>\n",
       "      <td>Russia</td>\n",
       "      <td>Theremin</td>\n",
       "      <td>...</td>\n",
       "      <td>ae6800dd0</td>\n",
       "      <td>1</td>\n",
       "      <td>Expert</td>\n",
       "      <td>Lava Hot</td>\n",
       "      <td>h</td>\n",
       "      <td>R</td>\n",
       "      <td>Jc</td>\n",
       "      <td>7</td>\n",
       "      <td>2</td>\n",
       "      <td>0</td>\n",
       "    </tr>\n",
       "    <tr>\n",
       "      <th>3</th>\n",
       "      <td>0</td>\n",
       "      <td>1</td>\n",
       "      <td>0</td>\n",
       "      <td>F</td>\n",
       "      <td>Y</td>\n",
       "      <td>Red</td>\n",
       "      <td>Trapezoid</td>\n",
       "      <td>Snake</td>\n",
       "      <td>Canada</td>\n",
       "      <td>Oboe</td>\n",
       "      <td>...</td>\n",
       "      <td>8270f0d71</td>\n",
       "      <td>1</td>\n",
       "      <td>Grandmaster</td>\n",
       "      <td>Boiling Hot</td>\n",
       "      <td>i</td>\n",
       "      <td>D</td>\n",
       "      <td>kW</td>\n",
       "      <td>2</td>\n",
       "      <td>1</td>\n",
       "      <td>1</td>\n",
       "    </tr>\n",
       "    <tr>\n",
       "      <th>4</th>\n",
       "      <td>0</td>\n",
       "      <td>0</td>\n",
       "      <td>0</td>\n",
       "      <td>F</td>\n",
       "      <td>N</td>\n",
       "      <td>Red</td>\n",
       "      <td>Trapezoid</td>\n",
       "      <td>Lion</td>\n",
       "      <td>Canada</td>\n",
       "      <td>Oboe</td>\n",
       "      <td>...</td>\n",
       "      <td>b164b72a7</td>\n",
       "      <td>1</td>\n",
       "      <td>Grandmaster</td>\n",
       "      <td>Freezing</td>\n",
       "      <td>a</td>\n",
       "      <td>R</td>\n",
       "      <td>qP</td>\n",
       "      <td>7</td>\n",
       "      <td>8</td>\n",
       "      <td>0</td>\n",
       "    </tr>\n",
       "  </tbody>\n",
       "</table>\n",
       "<p>5 rows × 24 columns</p>\n",
       "</div>"
      ],
      "text/plain": [
       "   bin_0  bin_1  bin_2 bin_3 bin_4  nom_0      nom_1    nom_2    nom_3  \\\n",
       "0      0      0      0     T     Y  Green   Triangle    Snake  Finland   \n",
       "1      0      1      0     T     Y  Green  Trapezoid  Hamster   Russia   \n",
       "2      0      0      0     F     Y   Blue  Trapezoid     Lion   Russia   \n",
       "3      0      1      0     F     Y    Red  Trapezoid    Snake   Canada   \n",
       "4      0      0      0     F     N    Red  Trapezoid     Lion   Canada   \n",
       "\n",
       "      nom_4  ...      nom_9 ord_0        ord_1        ord_2 ord_3  ord_4  \\\n",
       "0   Bassoon  ...  2f4cb3d51     2  Grandmaster         Cold     h      D   \n",
       "1     Piano  ...  f83c56c21     1  Grandmaster          Hot     a      A   \n",
       "2  Theremin  ...  ae6800dd0     1       Expert     Lava Hot     h      R   \n",
       "3      Oboe  ...  8270f0d71     1  Grandmaster  Boiling Hot     i      D   \n",
       "4      Oboe  ...  b164b72a7     1  Grandmaster     Freezing     a      R   \n",
       "\n",
       "  ord_5 day month target  \n",
       "0    kr   2     2      0  \n",
       "1    bF   7     8      0  \n",
       "2    Jc   7     2      0  \n",
       "3    kW   2     1      1  \n",
       "4    qP   7     8      0  \n",
       "\n",
       "[5 rows x 24 columns]"
      ]
     },
     "execution_count": 3,
     "metadata": {},
     "output_type": "execute_result"
    }
   ],
   "source": [
    "def read_csv_from_drive(url: str) -> pd.DataFrame:\n",
    "  url = 'https://drive.google.com/uc?id=' + url.split('/')[-2]\n",
    "  return pd.read_csv(url)\n",
    "\n",
    "# Read data from csv file and drop the 'id' column as it won't be needed.\n",
    "data = read_csv_from_drive(\n",
    "  'https://drive.google.com/file/d/1Q8Q62LS3XY3yjJOIWTM-cAN-9FlOHMOU/view?usp=drive_link'\n",
    ").drop(columns = ['id'])\n",
    "data.head()"
   ]
  },
  {
   "cell_type": "code",
   "execution_count": 4,
   "metadata": {},
   "outputs": [],
   "source": [
    "def split_sets(data: pd.DataFrame,\n",
    "               target_column_name: str = 'target',\n",
    "               test_size: float = 0.2,\n",
    "               validation_size: float = 0.20,\n",
    "               seed: int = 8675309) -> tuple:\n",
    "  \"\"\"Split a data frame into train/validation/test sets.\n",
    "\n",
    "  Args:\n",
    "    data (pd.DataFrame): The data we'd like to split.\n",
    "    target_column_name (str): The column name in the data containing the target.\n",
    "    test_size (float): The proportion of the data to use for test.\n",
    "    validation_size (float): The proportion of training data to use for\n",
    "      validation.\n",
    "    seed (int): A seed to supply to train_test_split.\n",
    "\n",
    "  Returns:\n",
    "    A tuple containing the train/validation/test sets for both the targets (Y)\n",
    "    and features (X).\n",
    "  \"\"\"\n",
    "\n",
    "  # Extract the Y and X values from the data.\n",
    "  Y = data[target_column_name].values\n",
    "  X = data.drop(columns=[target_column_name])\n",
    "\n",
    "  # Split data into (validation + train) and test.\n",
    "  x_train_val, x_test, y_train_val, y_test = train_test_split(\n",
    "      X, Y, test_size = test_size, random_state = seed)\n",
    "  x_train_val = x_train_val.reset_index(drop = True)\n",
    "  x_test = x_test.reset_index(drop = True)\n",
    "\n",
    "  # Split again into validation and train.\n",
    "  x_train, x_val, y_train, y_val = train_test_split(\n",
    "    x_train_val, y_train_val, test_size = validation_size, random_state = seed)\n",
    "\n",
    "  return (\n",
    "    x_train, y_train, x_val, y_val, x_test, y_test, x_train_val, y_train_val\n",
    "  )"
   ]
  },
  {
   "cell_type": "code",
   "execution_count": 5,
   "metadata": {},
   "outputs": [],
   "source": [
    "x_train, y_train, x_val, y_val, x_test, y_test, x_train_val, y_train_val = (\n",
    "  split_sets(data)\n",
    ")"
   ]
  },
  {
   "cell_type": "markdown",
   "metadata": {},
   "source": [
    "Ensure that:\n",
    "- the binary variables are dummy encoded,\n",
    "- numeric variables are left alone,\n",
    "- the variables ’ord_0’, ’ord_3’, ’ord_4’, & ’ord_5’ are label encoded, and\n",
    "- the variables ’nom_0’, ’nom_1’, ’nom_2’, ’nom_3’, ’nom_4’, ’nom_5’, ’nom_6’, ’nom_7’, ’nom_8’, ’nom_9’, ’ord_1’, & ’ord_2’ are encoded with hashing.\n"
   ]
  },
  {
   "cell_type": "code",
   "execution_count": 6,
   "metadata": {},
   "outputs": [
    {
     "data": {
      "text/plain": [
       "{'bin_0': 2,\n",
       " 'bin_1': 2,\n",
       " 'bin_2': 2,\n",
       " 'bin_3': 2,\n",
       " 'bin_4': 2,\n",
       " 'nom_0': 3,\n",
       " 'nom_1': 6,\n",
       " 'nom_2': 6,\n",
       " 'nom_3': 6,\n",
       " 'nom_4': 4,\n",
       " 'nom_5': 222,\n",
       " 'nom_6': 522,\n",
       " 'nom_7': 1220,\n",
       " 'nom_8': 2214,\n",
       " 'nom_9': 11846,\n",
       " 'ord_0': 3,\n",
       " 'ord_1': 5,\n",
       " 'ord_2': 6,\n",
       " 'ord_3': 15,\n",
       " 'ord_4': 26,\n",
       " 'ord_5': 192,\n",
       " 'day': 7,\n",
       " 'month': 12}"
      ]
     },
     "execution_count": 6,
     "metadata": {},
     "output_type": "execute_result"
    }
   ],
   "source": [
    "{col: len(x_train[col].unique()) for col in x_train.columns}"
   ]
  },
  {
   "cell_type": "code",
   "execution_count": 7,
   "metadata": {},
   "outputs": [],
   "source": [
    "def label_encoding(x: np.array,\n",
    "                   add_unknown: bool = True,\n",
    "                   unknown_value: str = 'Unknown'):\n",
    "  \"\"\"Encode a categorical column.\n",
    "\n",
    "  Args:\n",
    "    x (np.array): An array to encode.\n",
    "    add_unknown (bool): If True, add an 'unknown' label.\n",
    "    unknown_value (str): The value to use in the 'unknown' label.\n",
    "\n",
    "  Returns:\n",
    "    A LabelEncoder.\n",
    "  \"\"\"\n",
    "\n",
    "  le = LabelEncoder()\n",
    "  uniq = np.unique(x)\n",
    "  if add_unknown:\n",
    "    uniq = np.concatenate((np.array([unknown_value]), uniq))\n",
    "  le.fit(uniq)\n",
    "  return le"
   ]
  },
  {
   "cell_type": "code",
   "execution_count": 8,
   "metadata": {},
   "outputs": [],
   "source": [
    "def transform_column(le: LabelEncoder,\n",
    "                     index: int,\n",
    "                     x_train: np.array,\n",
    "                     x_val: np.array,\n",
    "                     x_test: np.array,\n",
    "                     x_train_val: np.array,\n",
    "                     unknown_value: str = 'Unknown') -> None:\n",
    "  classes = le.classes_\n",
    "\n",
    "  x_train[index] = le.transform(x_train[index])\n",
    "\n",
    "  val = [x if x in classes else unknown_value for x in x_val[index]]\n",
    "  x_val[index] = le.transform(val)\n",
    "\n",
    "  test = [x if x in classes else unknown_value for x in x_test[index]]\n",
    "  x_test[index] = le.transform(test)\n",
    "\n",
    "  train_val = [x if x in classes else unknown_value for x in x_train_val[index]]\n",
    "  x_train_val[index] = le.transform(train_val)"
   ]
  },
  {
   "cell_type": "code",
   "execution_count": 9,
   "metadata": {},
   "outputs": [],
   "source": [
    "def hashing_trick(x: pd.DataFrame, n_features: int = 3) -> pd.DataFrame:\n",
    "  \"\"\"Create a hash from a column of strings.\n",
    "\n",
    "  Args:\n",
    "    x (pd.DataFrame): A single column as a pandas data frame.\n",
    "    n_features (int): The number of features (columns) in the output matrices.\n",
    "\n",
    "  Returns:\n",
    "    A pandas data frame with 1 row and `n_features` columns containing the\n",
    "    hashed values.\n",
    "  \"\"\"\n",
    "\n",
    "  # Create new columns for output data frame.\n",
    "  names = [x.name + \"_\" + str(i + 1) for i in range(n_features)]\n",
    "\n",
    "  # Build hasher function.\n",
    "  h = FeatureHasher(input_type = 'string', n_features = n_features)\n",
    "\n",
    "  # Transform the column and convert to an array.\n",
    "  hashed = h.transform(x.to_numpy().reshape(-1, 1)).toarray()\n",
    "\n",
    "  # Add `names` and return hashed field.\n",
    "  return pd.DataFrame(hashed, columns = names)"
   ]
  },
  {
   "cell_type": "code",
   "execution_count": 10,
   "metadata": {},
   "outputs": [],
   "source": [
    "def transform_data(x_train: pd.DataFrame,\n",
    "                   x_val: pd.DataFrame,\n",
    "                   x_test: pd.DataFrame,\n",
    "                   x_train_val: pd.DataFrame,\n",
    "                   n: int)-> pd.DataFrame:\n",
    "  \n",
    "  label_encoding_cols = ['bin_3', 'bin_4', 'ord_3', 'ord_4', 'ord_5']\n",
    "  num_cols = ['bin_0', 'bin_1', 'bin_2', 'ord_0', 'day', 'month']\n",
    "  hashing_col = ['nom_0',\n",
    "  'nom_1',\n",
    "  'nom_2',\n",
    "  'nom_3',\n",
    "  'nom_4',\n",
    "  'nom_5',\n",
    "  'nom_6',\n",
    "  'nom_7',\n",
    "  'nom_8',\n",
    "  'nom_9',\n",
    "  'ord_1',\n",
    "  'ord_2']\n",
    "\n",
    "  x_train_hash = x_train[hashing_col].copy()\n",
    "  x_val_hash = x_val[hashing_col].copy()\n",
    "  x_test_hash = x_test[hashing_col].copy()\n",
    "  x_train_val_hash = x_train_val[hashing_col].copy()\n",
    "\n",
    "  # delete feature hashing columns from the main dataframes\n",
    "  x_train_2 = x_train.drop(columns=hashing_col).copy()\n",
    "  x_val_2 = x_val.drop(columns=hashing_col).copy()\n",
    "  x_test_2 = x_test.drop(columns=hashing_col).copy()\n",
    "  x_train_val_2 = x_train_val.drop(columns=hashing_col).copy()\n",
    "\n",
    "  x_train_2.reset_index(drop=True, inplace=True)\n",
    "  x_val_2.reset_index(drop=True, inplace=True)\n",
    "  x_test_2.reset_index(drop=True, inplace=True)\n",
    "  x_train_val_2.reset_index(drop=True, inplace=True)\n",
    "\n",
    "  for f in label_encoding_cols:\n",
    "    is_binary = f.startswith('bin')\n",
    "    le = label_encoding(x_train[f].values, add_unknown = not is_binary)\n",
    "    transform_column(le, f, x_train_2, x_val_2, x_test_2, x_train_val_2)\n",
    "\n",
    "  x_train_hashed = pd.concat([hashing_trick(x_train_hash[f], n_features=n)\n",
    "                              for f in hashing_col], axis=1)\n",
    "  x_val_hashed = pd.concat([hashing_trick(x_val_hash[f], n_features=n)\n",
    "                              for f in hashing_col], axis=1)\n",
    "  x_test_hashed = pd.concat([hashing_trick(x_test_hash[f], n_features=n)\n",
    "                              for f in hashing_col], axis=1)\n",
    "  x_train_val_hashed = pd.concat([hashing_trick(x_train_val_hash[f], n_features=n)\n",
    "                              for f in hashing_col], axis=1)\n",
    "\n",
    "\n",
    "  x_train_3 = pd.concat([x_train_2, x_train_hashed], axis=1)\n",
    "  x_val_3 = pd.concat([x_val_2, x_val_hashed], axis=1)\n",
    "  x_test_3 = pd.concat([x_test_2, x_test_hashed], axis=1)\n",
    "  x_train_val_3 = pd.concat([x_train_val_2, x_train_val_hashed], axis=1)\n",
    "\n",
    "  return x_train_3, x_val_3, x_test_3, x_train_val_3"
   ]
  },
  {
   "cell_type": "code",
   "execution_count": 11,
   "metadata": {},
   "outputs": [],
   "source": [
    "x_train_trans, x_val_trans, x_test_trans, x_train_val_trans = transform_data(x_train, x_val, x_test, x_train_val, 3)"
   ]
  },
  {
   "cell_type": "code",
   "execution_count": 12,
   "metadata": {},
   "outputs": [
    {
     "data": {
      "text/html": [
       "<div>\n",
       "<style scoped>\n",
       "    .dataframe tbody tr th:only-of-type {\n",
       "        vertical-align: middle;\n",
       "    }\n",
       "\n",
       "    .dataframe tbody tr th {\n",
       "        vertical-align: top;\n",
       "    }\n",
       "\n",
       "    .dataframe thead th {\n",
       "        text-align: right;\n",
       "    }\n",
       "</style>\n",
       "<table border=\"1\" class=\"dataframe\">\n",
       "  <thead>\n",
       "    <tr style=\"text-align: right;\">\n",
       "      <th></th>\n",
       "      <th>bin_0</th>\n",
       "      <th>bin_1</th>\n",
       "      <th>bin_2</th>\n",
       "      <th>bin_3</th>\n",
       "      <th>bin_4</th>\n",
       "      <th>ord_0</th>\n",
       "      <th>ord_3</th>\n",
       "      <th>ord_4</th>\n",
       "      <th>ord_5</th>\n",
       "      <th>day</th>\n",
       "      <th>...</th>\n",
       "      <th>nom_8_3</th>\n",
       "      <th>nom_9_1</th>\n",
       "      <th>nom_9_2</th>\n",
       "      <th>nom_9_3</th>\n",
       "      <th>ord_1_1</th>\n",
       "      <th>ord_1_2</th>\n",
       "      <th>ord_1_3</th>\n",
       "      <th>ord_2_1</th>\n",
       "      <th>ord_2_2</th>\n",
       "      <th>ord_2_3</th>\n",
       "    </tr>\n",
       "  </thead>\n",
       "  <tbody>\n",
       "    <tr>\n",
       "      <th>0</th>\n",
       "      <td>0</td>\n",
       "      <td>1</td>\n",
       "      <td>1</td>\n",
       "      <td>0</td>\n",
       "      <td>1</td>\n",
       "      <td>2</td>\n",
       "      <td>9</td>\n",
       "      <td>1</td>\n",
       "      <td>165</td>\n",
       "      <td>3</td>\n",
       "      <td>...</td>\n",
       "      <td>1.0</td>\n",
       "      <td>0.0</td>\n",
       "      <td>-1.0</td>\n",
       "      <td>0.0</td>\n",
       "      <td>0.0</td>\n",
       "      <td>0.0</td>\n",
       "      <td>1.0</td>\n",
       "      <td>0.0</td>\n",
       "      <td>0.0</td>\n",
       "      <td>1.0</td>\n",
       "    </tr>\n",
       "    <tr>\n",
       "      <th>1</th>\n",
       "      <td>1</td>\n",
       "      <td>1</td>\n",
       "      <td>0</td>\n",
       "      <td>1</td>\n",
       "      <td>0</td>\n",
       "      <td>1</td>\n",
       "      <td>8</td>\n",
       "      <td>4</td>\n",
       "      <td>121</td>\n",
       "      <td>3</td>\n",
       "      <td>...</td>\n",
       "      <td>-1.0</td>\n",
       "      <td>-1.0</td>\n",
       "      <td>0.0</td>\n",
       "      <td>0.0</td>\n",
       "      <td>0.0</td>\n",
       "      <td>0.0</td>\n",
       "      <td>1.0</td>\n",
       "      <td>0.0</td>\n",
       "      <td>0.0</td>\n",
       "      <td>1.0</td>\n",
       "    </tr>\n",
       "    <tr>\n",
       "      <th>2</th>\n",
       "      <td>0</td>\n",
       "      <td>1</td>\n",
       "      <td>1</td>\n",
       "      <td>0</td>\n",
       "      <td>1</td>\n",
       "      <td>2</td>\n",
       "      <td>5</td>\n",
       "      <td>19</td>\n",
       "      <td>79</td>\n",
       "      <td>1</td>\n",
       "      <td>...</td>\n",
       "      <td>0.0</td>\n",
       "      <td>0.0</td>\n",
       "      <td>-1.0</td>\n",
       "      <td>0.0</td>\n",
       "      <td>0.0</td>\n",
       "      <td>0.0</td>\n",
       "      <td>1.0</td>\n",
       "      <td>1.0</td>\n",
       "      <td>0.0</td>\n",
       "      <td>0.0</td>\n",
       "    </tr>\n",
       "    <tr>\n",
       "      <th>3</th>\n",
       "      <td>0</td>\n",
       "      <td>0</td>\n",
       "      <td>1</td>\n",
       "      <td>0</td>\n",
       "      <td>0</td>\n",
       "      <td>3</td>\n",
       "      <td>10</td>\n",
       "      <td>20</td>\n",
       "      <td>24</td>\n",
       "      <td>1</td>\n",
       "      <td>...</td>\n",
       "      <td>1.0</td>\n",
       "      <td>0.0</td>\n",
       "      <td>0.0</td>\n",
       "      <td>1.0</td>\n",
       "      <td>1.0</td>\n",
       "      <td>0.0</td>\n",
       "      <td>0.0</td>\n",
       "      <td>1.0</td>\n",
       "      <td>0.0</td>\n",
       "      <td>0.0</td>\n",
       "    </tr>\n",
       "    <tr>\n",
       "      <th>4</th>\n",
       "      <td>1</td>\n",
       "      <td>1</td>\n",
       "      <td>1</td>\n",
       "      <td>0</td>\n",
       "      <td>1</td>\n",
       "      <td>1</td>\n",
       "      <td>1</td>\n",
       "      <td>20</td>\n",
       "      <td>121</td>\n",
       "      <td>5</td>\n",
       "      <td>...</td>\n",
       "      <td>0.0</td>\n",
       "      <td>0.0</td>\n",
       "      <td>1.0</td>\n",
       "      <td>0.0</td>\n",
       "      <td>0.0</td>\n",
       "      <td>0.0</td>\n",
       "      <td>1.0</td>\n",
       "      <td>0.0</td>\n",
       "      <td>0.0</td>\n",
       "      <td>-1.0</td>\n",
       "    </tr>\n",
       "    <tr>\n",
       "      <th>...</th>\n",
       "      <td>...</td>\n",
       "      <td>...</td>\n",
       "      <td>...</td>\n",
       "      <td>...</td>\n",
       "      <td>...</td>\n",
       "      <td>...</td>\n",
       "      <td>...</td>\n",
       "      <td>...</td>\n",
       "      <td>...</td>\n",
       "      <td>...</td>\n",
       "      <td>...</td>\n",
       "      <td>...</td>\n",
       "      <td>...</td>\n",
       "      <td>...</td>\n",
       "      <td>...</td>\n",
       "      <td>...</td>\n",
       "      <td>...</td>\n",
       "      <td>...</td>\n",
       "      <td>...</td>\n",
       "      <td>...</td>\n",
       "      <td>...</td>\n",
       "    </tr>\n",
       "    <tr>\n",
       "      <th>191995</th>\n",
       "      <td>1</td>\n",
       "      <td>0</td>\n",
       "      <td>1</td>\n",
       "      <td>1</td>\n",
       "      <td>1</td>\n",
       "      <td>1</td>\n",
       "      <td>15</td>\n",
       "      <td>16</td>\n",
       "      <td>170</td>\n",
       "      <td>2</td>\n",
       "      <td>...</td>\n",
       "      <td>0.0</td>\n",
       "      <td>1.0</td>\n",
       "      <td>0.0</td>\n",
       "      <td>0.0</td>\n",
       "      <td>0.0</td>\n",
       "      <td>0.0</td>\n",
       "      <td>1.0</td>\n",
       "      <td>0.0</td>\n",
       "      <td>0.0</td>\n",
       "      <td>1.0</td>\n",
       "    </tr>\n",
       "    <tr>\n",
       "      <th>191996</th>\n",
       "      <td>0</td>\n",
       "      <td>0</td>\n",
       "      <td>0</td>\n",
       "      <td>0</td>\n",
       "      <td>0</td>\n",
       "      <td>3</td>\n",
       "      <td>2</td>\n",
       "      <td>7</td>\n",
       "      <td>3</td>\n",
       "      <td>7</td>\n",
       "      <td>...</td>\n",
       "      <td>0.0</td>\n",
       "      <td>0.0</td>\n",
       "      <td>0.0</td>\n",
       "      <td>1.0</td>\n",
       "      <td>0.0</td>\n",
       "      <td>1.0</td>\n",
       "      <td>0.0</td>\n",
       "      <td>0.0</td>\n",
       "      <td>0.0</td>\n",
       "      <td>1.0</td>\n",
       "    </tr>\n",
       "    <tr>\n",
       "      <th>191997</th>\n",
       "      <td>0</td>\n",
       "      <td>1</td>\n",
       "      <td>0</td>\n",
       "      <td>1</td>\n",
       "      <td>0</td>\n",
       "      <td>1</td>\n",
       "      <td>5</td>\n",
       "      <td>17</td>\n",
       "      <td>153</td>\n",
       "      <td>4</td>\n",
       "      <td>...</td>\n",
       "      <td>0.0</td>\n",
       "      <td>-1.0</td>\n",
       "      <td>0.0</td>\n",
       "      <td>0.0</td>\n",
       "      <td>1.0</td>\n",
       "      <td>0.0</td>\n",
       "      <td>0.0</td>\n",
       "      <td>0.0</td>\n",
       "      <td>0.0</td>\n",
       "      <td>-1.0</td>\n",
       "    </tr>\n",
       "    <tr>\n",
       "      <th>191998</th>\n",
       "      <td>1</td>\n",
       "      <td>0</td>\n",
       "      <td>0</td>\n",
       "      <td>1</td>\n",
       "      <td>0</td>\n",
       "      <td>3</td>\n",
       "      <td>9</td>\n",
       "      <td>18</td>\n",
       "      <td>18</td>\n",
       "      <td>2</td>\n",
       "      <td>...</td>\n",
       "      <td>0.0</td>\n",
       "      <td>0.0</td>\n",
       "      <td>0.0</td>\n",
       "      <td>1.0</td>\n",
       "      <td>1.0</td>\n",
       "      <td>0.0</td>\n",
       "      <td>0.0</td>\n",
       "      <td>0.0</td>\n",
       "      <td>0.0</td>\n",
       "      <td>1.0</td>\n",
       "    </tr>\n",
       "    <tr>\n",
       "      <th>191999</th>\n",
       "      <td>0</td>\n",
       "      <td>0</td>\n",
       "      <td>0</td>\n",
       "      <td>1</td>\n",
       "      <td>1</td>\n",
       "      <td>1</td>\n",
       "      <td>11</td>\n",
       "      <td>17</td>\n",
       "      <td>58</td>\n",
       "      <td>2</td>\n",
       "      <td>...</td>\n",
       "      <td>0.0</td>\n",
       "      <td>0.0</td>\n",
       "      <td>1.0</td>\n",
       "      <td>0.0</td>\n",
       "      <td>0.0</td>\n",
       "      <td>-1.0</td>\n",
       "      <td>0.0</td>\n",
       "      <td>-1.0</td>\n",
       "      <td>0.0</td>\n",
       "      <td>0.0</td>\n",
       "    </tr>\n",
       "  </tbody>\n",
       "</table>\n",
       "<p>192000 rows × 47 columns</p>\n",
       "</div>"
      ],
      "text/plain": [
       "        bin_0  bin_1  bin_2  bin_3  bin_4  ord_0  ord_3  ord_4  ord_5  day  \\\n",
       "0           0      1      1      0      1      2      9      1    165    3   \n",
       "1           1      1      0      1      0      1      8      4    121    3   \n",
       "2           0      1      1      0      1      2      5     19     79    1   \n",
       "3           0      0      1      0      0      3     10     20     24    1   \n",
       "4           1      1      1      0      1      1      1     20    121    5   \n",
       "...       ...    ...    ...    ...    ...    ...    ...    ...    ...  ...   \n",
       "191995      1      0      1      1      1      1     15     16    170    2   \n",
       "191996      0      0      0      0      0      3      2      7      3    7   \n",
       "191997      0      1      0      1      0      1      5     17    153    4   \n",
       "191998      1      0      0      1      0      3      9     18     18    2   \n",
       "191999      0      0      0      1      1      1     11     17     58    2   \n",
       "\n",
       "        ...  nom_8_3  nom_9_1  nom_9_2  nom_9_3  ord_1_1  ord_1_2  ord_1_3  \\\n",
       "0       ...      1.0      0.0     -1.0      0.0      0.0      0.0      1.0   \n",
       "1       ...     -1.0     -1.0      0.0      0.0      0.0      0.0      1.0   \n",
       "2       ...      0.0      0.0     -1.0      0.0      0.0      0.0      1.0   \n",
       "3       ...      1.0      0.0      0.0      1.0      1.0      0.0      0.0   \n",
       "4       ...      0.0      0.0      1.0      0.0      0.0      0.0      1.0   \n",
       "...     ...      ...      ...      ...      ...      ...      ...      ...   \n",
       "191995  ...      0.0      1.0      0.0      0.0      0.0      0.0      1.0   \n",
       "191996  ...      0.0      0.0      0.0      1.0      0.0      1.0      0.0   \n",
       "191997  ...      0.0     -1.0      0.0      0.0      1.0      0.0      0.0   \n",
       "191998  ...      0.0      0.0      0.0      1.0      1.0      0.0      0.0   \n",
       "191999  ...      0.0      0.0      1.0      0.0      0.0     -1.0      0.0   \n",
       "\n",
       "        ord_2_1  ord_2_2  ord_2_3  \n",
       "0           0.0      0.0      1.0  \n",
       "1           0.0      0.0      1.0  \n",
       "2           1.0      0.0      0.0  \n",
       "3           1.0      0.0      0.0  \n",
       "4           0.0      0.0     -1.0  \n",
       "...         ...      ...      ...  \n",
       "191995      0.0      0.0      1.0  \n",
       "191996      0.0      0.0      1.0  \n",
       "191997      0.0      0.0     -1.0  \n",
       "191998      0.0      0.0      1.0  \n",
       "191999     -1.0      0.0      0.0  \n",
       "\n",
       "[192000 rows x 47 columns]"
      ]
     },
     "execution_count": 12,
     "metadata": {},
     "output_type": "execute_result"
    }
   ],
   "source": [
    "x_train_trans"
   ]
  },
  {
   "cell_type": "markdown",
   "metadata": {},
   "source": [
    "We want to figure out the ideal choice of dimension d for the hashing trick when fitting a logistic regression. We will run our logistic regression using L2 regularization with penalty parameter choice C = 1. We will assess based on which dimension produces the model with the best cross-validated AUC.\n",
    "\n",
    "Using the splits defined by,\n",
    "\n",
    "cv = KFold(n_splits = 5, random_state = 13, shuffle = True)\n",
    "\n",
    "cross-validate the models with candidate hashing dimensions d = 3, 5, 10, 15, 20. Be sure to scale inside the CV loop.\n"
   ]
  },
  {
   "cell_type": "code",
   "execution_count": 13,
   "metadata": {},
   "outputs": [],
   "source": [
    "from sklearn.preprocessing import StandardScaler\n",
    "from sklearn.linear_model import LogisticRegression"
   ]
  },
  {
   "cell_type": "code",
   "execution_count": 14,
   "metadata": {},
   "outputs": [
    {
     "name": "stdout",
     "output_type": "stream",
     "text": [
      "........................."
     ]
    }
   ],
   "source": [
    "cv = KFold(n_splits = 5, random_state = 13, shuffle = True)\n",
    "dimension = [3, 5, 10, 15, 20]\n",
    "scaler = StandardScaler()\n",
    "\n",
    "auc_score = []\n",
    "for d in dimension:\n",
    "    x_train_trans, x_val_trans, x_test_trans, x_train_val_trans = transform_data(x_train, x_val, x_test, x_train_val, d)\n",
    "    score = []\n",
    "    for train_fold, val_fold in cv.split(x_train_val_trans):\n",
    "        print('.', end = '')\n",
    "        # Split into feature folds using the previously encoded features.\n",
    "        x_train_fold = x_train_val_trans.iloc[train_fold, :].copy()\n",
    "        x_val_fold = x_train_val_trans.iloc[val_fold, :].copy()\n",
    "        X_train = scaler.fit_transform(x_train_fold)\n",
    "        X_val = scaler.fit_transform(x_val_fold)\n",
    "        clf = LogisticRegression(C = 1).fit(X_train, y_train)\n",
    "        y_hat = clf.predict_proba(X_val)[:,1]\n",
    "        score.append(roc_auc_score(y_val, y_hat))\n",
    "\n",
    "    auc_score.append([d,np.mean(score)])\n",
    "        "
   ]
  },
  {
   "cell_type": "code",
   "execution_count": 15,
   "metadata": {},
   "outputs": [
    {
     "data": {
      "text/html": [
       "<div>\n",
       "<style scoped>\n",
       "    .dataframe tbody tr th:only-of-type {\n",
       "        vertical-align: middle;\n",
       "    }\n",
       "\n",
       "    .dataframe tbody tr th {\n",
       "        vertical-align: top;\n",
       "    }\n",
       "\n",
       "    .dataframe thead th {\n",
       "        text-align: right;\n",
       "    }\n",
       "</style>\n",
       "<table border=\"1\" class=\"dataframe\">\n",
       "  <thead>\n",
       "    <tr style=\"text-align: right;\">\n",
       "      <th></th>\n",
       "      <th>dimension</th>\n",
       "      <th>auc score</th>\n",
       "    </tr>\n",
       "  </thead>\n",
       "  <tbody>\n",
       "    <tr>\n",
       "      <th>0</th>\n",
       "      <td>3</td>\n",
       "      <td>0.500481</td>\n",
       "    </tr>\n",
       "    <tr>\n",
       "      <th>1</th>\n",
       "      <td>5</td>\n",
       "      <td>0.501181</td>\n",
       "    </tr>\n",
       "    <tr>\n",
       "      <th>2</th>\n",
       "      <td>10</td>\n",
       "      <td>0.501243</td>\n",
       "    </tr>\n",
       "    <tr>\n",
       "      <th>3</th>\n",
       "      <td>15</td>\n",
       "      <td>0.501719</td>\n",
       "    </tr>\n",
       "    <tr>\n",
       "      <th>4</th>\n",
       "      <td>20</td>\n",
       "      <td>0.502484</td>\n",
       "    </tr>\n",
       "  </tbody>\n",
       "</table>\n",
       "</div>"
      ],
      "text/plain": [
       "   dimension  auc score\n",
       "0          3   0.500481\n",
       "1          5   0.501181\n",
       "2         10   0.501243\n",
       "3         15   0.501719\n",
       "4         20   0.502484"
      ]
     },
     "execution_count": 15,
     "metadata": {},
     "output_type": "execute_result"
    }
   ],
   "source": [
    "df_auc = pd.DataFrame(auc_score, columns=['dimension', 'auc score'])\n",
    "df_auc"
   ]
  },
  {
   "cell_type": "markdown",
   "metadata": {},
   "source": [
    "Which dimension returned the best cross-validated AUC? What was the value of the cross- validated AUC? Evaluate the model you selected on the test set and report the out of sample AUC."
   ]
  },
  {
   "cell_type": "markdown",
   "metadata": {},
   "source": [
    "Ans: For CV- 20 dimensions has the highest auc. The value is 0.502484.\n",
    "     On the test set: 15 dimensions has the highest auc. The value is 0.7569."
   ]
  },
  {
   "cell_type": "code",
   "execution_count": 16,
   "metadata": {},
   "outputs": [
    {
     "name": "stdout",
     "output_type": "stream",
     "text": [
      "3 0.74785461790425\n",
      "5 0.7437427284191248\n",
      "10 0.7510756823928442\n",
      "15 0.7569638270982746\n",
      "20 0.7526595595434364\n"
     ]
    }
   ],
   "source": [
    "# Evaluate the model you selected on the test set and report the out of sample AUC.\n",
    "for d in dimension:\n",
    "    x_train_trans, x_val_trans, x_test_trans, x_train_val_trans = transform_data(x_train, x_val, x_test, x_train_val, d)\n",
    "    X_train_val = scaler.fit_transform(x_train_val_trans)\n",
    "    X_test = scaler.fit_transform(x_test_trans)\n",
    "    clf = LogisticRegression(C = 1).fit(X_train_val, y_train_val)\n",
    "    y_hat = clf.predict_proba(X_test)[:,1]\n",
    "    print(d, roc_auc_score(y_test, y_hat))"
   ]
  },
  {
   "cell_type": "markdown",
   "metadata": {},
   "source": [
    "Are there any collisions with this choice of dimension? If yes, does this change your thoughts on selecting this hashing dimension?\n"
   ]
  },
  {
   "cell_type": "code",
   "execution_count": 20,
   "metadata": {},
   "outputs": [
    {
     "name": "stdout",
     "output_type": "stream",
     "text": [
      "nom_0 has no collisions\n",
      "nom_1 has no collisions\n",
      "nom_2 has collisions with dimension 15, and 16.67% of features having collisions\n",
      "nom_3 has no collisions\n",
      "nom_4 has no collisions\n",
      "nom_5 has collisions with dimension 15, and 86.49% of features having collisions\n",
      "nom_6 has collisions with dimension 15, and 94.25% of features having collisions\n",
      "nom_7 has collisions with dimension 15, and 97.54% of features having collisions\n",
      "nom_8 has collisions with dimension 15, and 98.64% of features having collisions\n",
      "nom_9 has collisions with dimension 15, and 99.75% of features having collisions\n",
      "ord_1 has collisions with dimension 15, and 20.0% of features having collisions\n",
      "ord_2 has collisions with dimension 15, and 16.67% of features having collisions\n"
     ]
    }
   ],
   "source": [
    "hashing_col = ['nom_0',\n",
    "  'nom_1',\n",
    "  'nom_2',\n",
    "  'nom_3',\n",
    "  'nom_4',\n",
    "  'nom_5',\n",
    "  'nom_6',\n",
    "  'nom_7',\n",
    "  'nom_8',\n",
    "  'nom_9',\n",
    "  'ord_1',\n",
    "  'ord_2']\n",
    "\n",
    "for col in hashing_col:\n",
    "    hash = hashing_trick(x_train_val[col], 15)\n",
    "    n_cats = len(np.unique(x_train_val[col]))\n",
    "    n_hash_cats = len(np.unique(hash, axis=0))\n",
    "\n",
    "    if n_hash_cats < n_cats:\n",
    "        collisions = 100 * (n_cats - n_hash_cats) / n_cats\n",
    "        print(col+' has collisions with dimension 15, and '+ str(round(collisions,2)) +'% of features having collisions')\n",
    "    else:   print(col+ ' has no collisions')\n"
   ]
  },
  {
   "cell_type": "code",
   "execution_count": 22,
   "metadata": {},
   "outputs": [
    {
     "name": "stdout",
     "output_type": "stream",
     "text": [
      "nom_0 has no collisions\n",
      "nom_1 has no collisions\n",
      "nom_2 has collisions with dimension 20, and 16.67% of features having collisions\n",
      "nom_3 has collisions with dimension 20, and 16.67% of features having collisions\n",
      "nom_4 has no collisions\n",
      "nom_5 has collisions with dimension 20, and 81.98% of features having collisions\n",
      "nom_6 has collisions with dimension 20, and 92.34% of features having collisions\n",
      "nom_7 has collisions with dimension 20, and 96.72% of features having collisions\n",
      "nom_8 has collisions with dimension 20, and 98.19% of features having collisions\n",
      "nom_9 has collisions with dimension 20, and 99.66% of features having collisions\n",
      "ord_1 has no collisions\n",
      "ord_2 has collisions with dimension 20, and 33.33% of features having collisions\n"
     ]
    }
   ],
   "source": [
    "hashing_col = ['nom_0',\n",
    "  'nom_1',\n",
    "  'nom_2',\n",
    "  'nom_3',\n",
    "  'nom_4',\n",
    "  'nom_5',\n",
    "  'nom_6',\n",
    "  'nom_7',\n",
    "  'nom_8',\n",
    "  'nom_9',\n",
    "  'ord_1',\n",
    "  'ord_2']\n",
    "\n",
    "for col in hashing_col:\n",
    "    hash = hashing_trick(x_train_val[col], 20)\n",
    "    n_cats = len(np.unique(x_train_val[col]))\n",
    "    n_hash_cats = len(np.unique(hash, axis=0))\n",
    "\n",
    "    if n_hash_cats < n_cats:\n",
    "        collisions = 100 * (n_cats - n_hash_cats) / n_cats\n",
    "        print(col+' has collisions with dimension 20, and '+ str(round(collisions,2)) +'% of features having collisions')\n",
    "    else:   print(col+ ' has no collisions')\n"
   ]
  },
  {
   "cell_type": "markdown",
   "metadata": {},
   "source": [
    "Ans: I'll choose dimension of 15"
   ]
  },
  {
   "cell_type": "markdown",
   "metadata": {},
   "source": [
    "---\n",
    "### 2. Regularizing Target (Mean) Encoding"
   ]
  },
  {
   "cell_type": "markdown",
   "metadata": {},
   "source": [
    "#### 2.1 Regularized Target Encoding"
   ]
  },
  {
   "cell_type": "markdown",
   "metadata": {},
   "source": [
    "Write a function called reg_target_encoding which does the following:\n",
    "- Create a 5-fold split on training data (this can either be KFold or StratifiedKFold).\n",
    "- Given a column, create a new column with the name: new_col = col + ‘_mean_enc’\n",
    "- For each fold, compute the mean encoding on 4/5 of the data and apply it to the other 1/5.\n",
    "- Fill any NAs with the global mean of the target variable.\n"
   ]
  },
  {
   "cell_type": "code",
   "execution_count": 23,
   "metadata": {},
   "outputs": [],
   "source": [
    "def reg_target_encoding(x_train:np.array, y_train:np.array, col:str, splits=5):\n",
    "    # Create a 5-fold split on training data\n",
    "    cv = KFold(n_splits=splits, shuffle=True, random_state=42)\n",
    "\n",
    "    # Create a new column name\n",
    "    new_col = col + '_mean_enc'\n",
    "\n",
    "    encoding_col = pd.Series([])\n",
    "\n",
    "    for i, (train_i, test_i) in enumerate(cv.split(x_train, x_train)):\n",
    "        mean_encoding = pd.Series(y_train[train_i]).groupby(x_train.iloc[train_i][col]).mean()\n",
    "        # x_train.iloc[test_i][new_col] = x_train.iloc[test_i][col].map(mean_encoding)\n",
    "        encoding_col = encoding_col._append(pd.Series(x_train.iloc[test_i][col].map(mean_encoding)), ignore_index=True)\n",
    "\n",
    "    x_train[new_col] = encoding_col\n",
    "    x_train[new_col].fillna(y_train.mean(), inplace=True)\n",
    "\n",
    "    return x_train\n"
   ]
  },
  {
   "cell_type": "markdown",
   "metadata": {},
   "source": [
    "#### 2.2 Test/Validation Set Target Encoding"
   ]
  },
  {
   "cell_type": "markdown",
   "metadata": {},
   "source": [
    "To compute mean encoding on the validation or test data, use the code similar to encoding without regularization. That is, compute the mean on all the training data and apply to the test/validation set.\n",
    "\n",
    "Write a function called mean_encoding_test which does the following:\n",
    "\n",
    "\n",
    "- Given a column name, create a new column with the name: new_col = col + ‘_mean_enc’.\n",
    "- Compute a mean encoding table on the training data and apply it to the validation or test data.\n",
    "- Fill any NAs with the global mean of the target variable on the training data.\n"
   ]
  },
  {
   "cell_type": "code",
   "execution_count": 24,
   "metadata": {},
   "outputs": [],
   "source": [
    "def mean_encoding_test(x_train: np.array,\n",
    "                        y_train: np.array,\n",
    "                        x_test: np.array,\n",
    "                        col: str) -> np.array:\n",
    "    new_col = col + '_mean_enc'\n",
    "    mean_encoding = pd.Series(y_train).groupby(x_train[col]).mean()\n",
    "    x_test[new_col] = x_test[col].map(mean_encoding)\n",
    "    x_test[new_col].fillna(y_train.mean(), inplace=True)\n",
    "    return x_test"
   ]
  },
  {
   "cell_type": "markdown",
   "metadata": {},
   "source": [
    "#### 2.3 Application to Data"
   ]
  },
  {
   "cell_type": "markdown",
   "metadata": {},
   "source": [
    "Apply your functions from 2.1 and 2.2 to do target encoding to the variables ‘ord_2’ and ‘nom_2’ on the sets you made in Section 1. Display a summary of the encodings per category."
   ]
  },
  {
   "cell_type": "code",
   "execution_count": 25,
   "metadata": {},
   "outputs": [],
   "source": [
    "Y = data['target'].values\n",
    "X = data.drop(columns=['target'])"
   ]
  },
  {
   "cell_type": "code",
   "execution_count": 26,
   "metadata": {},
   "outputs": [],
   "source": [
    "x_train, x_test, y_train, y_test = train_test_split(X, Y, test_size=0.2, shuffle=True, random_state=5)"
   ]
  },
  {
   "cell_type": "code",
   "execution_count": 27,
   "metadata": {},
   "outputs": [
    {
     "data": {
      "text/plain": [
       "count    240000.000000\n",
       "mean          0.306470\n",
       "std           0.002784\n",
       "min           0.298664\n",
       "25%           0.305134\n",
       "50%           0.306492\n",
       "75%           0.307672\n",
       "max           0.315097\n",
       "Name: ord_2_mean_enc, dtype: float64"
      ]
     },
     "execution_count": 27,
     "metadata": {},
     "output_type": "execute_result"
    }
   ],
   "source": [
    "X_train = reg_target_encoding(x_train, y_train, col = 'ord_2', splits = 5)\n",
    "X_train['ord_2_mean_enc'].describe()\n"
   ]
  },
  {
   "cell_type": "code",
   "execution_count": 28,
   "metadata": {},
   "outputs": [
    {
     "data": {
      "image/png": "[encoded data removed]",
      "text/plain": [
       "<Figure size 1000x600 with 1 Axes>"
      ]
     },
     "metadata": {},
     "output_type": "display_data"
    }
   ],
   "source": [
    "plt.figure(figsize=(10, 6))\n",
    "plt.hist(X_train['ord_2_mean_enc'], color='blue', bins=20)\n",
    "plt.title(f'Histogram of Mean Encodings for ord_2(Training)')\n",
    "plt.xlabel('Mean Encodings')\n",
    "plt.ylabel('Frequency')\n",
    "plt.show()"
   ]
  },
  {
   "cell_type": "code",
   "execution_count": 29,
   "metadata": {},
   "outputs": [
    {
     "data": {
      "text/plain": [
       "count    240000.000000\n",
       "mean          0.306471\n",
       "std           0.002801\n",
       "min           0.299763\n",
       "25%           0.305446\n",
       "50%           0.306492\n",
       "75%           0.307725\n",
       "max           0.316799\n",
       "Name: nom_2_mean_enc, dtype: float64"
      ]
     },
     "execution_count": 29,
     "metadata": {},
     "output_type": "execute_result"
    }
   ],
   "source": [
    "X_train = reg_target_encoding(x_train, y_train, col = 'nom_2', splits = 5)\n",
    "X_train['nom_2_mean_enc'].describe()"
   ]
  },
  {
   "cell_type": "code",
   "execution_count": 30,
   "metadata": {},
   "outputs": [
    {
     "data": {
      "image/png": "[encoded data removed]",
      "text/plain": [
       "<Figure size 1000x600 with 1 Axes>"
      ]
     },
     "metadata": {},
     "output_type": "display_data"
    }
   ],
   "source": [
    "plt.figure(figsize=(10, 6))\n",
    "plt.hist(X_train['nom_2_mean_enc'], color='blue', bins=20)\n",
    "plt.title(f'Histogram of Mean Encodings for nom_2(Training)')\n",
    "plt.xlabel('Mean Encodings')\n",
    "plt.ylabel('Frequency')\n",
    "plt.show()"
   ]
  },
  {
   "cell_type": "code",
   "execution_count": 31,
   "metadata": {},
   "outputs": [
    {
     "data": {
      "text/plain": [
       "count    60000.000000\n",
       "mean         0.306724\n",
       "std          0.001550\n",
       "min          0.305060\n",
       "25%          0.305641\n",
       "50%          0.306463\n",
       "75%          0.307674\n",
       "max          0.310394\n",
       "Name: ord_2_mean_enc, dtype: float64"
      ]
     },
     "execution_count": 31,
     "metadata": {},
     "output_type": "execute_result"
    }
   ],
   "source": [
    "X_test = mean_encoding_test(x_train, y_train, x_test, col = 'ord_2')\n",
    "X_test['ord_2_mean_enc'].describe()"
   ]
  },
  {
   "cell_type": "code",
   "execution_count": 32,
   "metadata": {},
   "outputs": [
    {
     "data": {
      "image/png": "[encoded data removed]",
      "text/plain": [
       "<Figure size 1000x600 with 1 Axes>"
      ]
     },
     "metadata": {},
     "output_type": "display_data"
    }
   ],
   "source": [
    "plt.figure(figsize=(10, 6))\n",
    "plt.hist(X_test['ord_2_mean_enc'], color='blue', bins=20)\n",
    "plt.title(f'Histogram of Mean Encodings for ord2(Testing)')\n",
    "plt.xlabel('Mean Encodings')\n",
    "plt.ylabel('Frequency')\n",
    "plt.show()"
   ]
  },
  {
   "cell_type": "code",
   "execution_count": 33,
   "metadata": {},
   "outputs": [
    {
     "data": {
      "text/plain": [
       "count    60000.000000\n",
       "mean         0.306725\n",
       "std          0.002019\n",
       "min          0.303286\n",
       "25%          0.306215\n",
       "50%          0.306589\n",
       "75%          0.308923\n",
       "max          0.308923\n",
       "Name: nom_2_mean_enc, dtype: float64"
      ]
     },
     "execution_count": 33,
     "metadata": {},
     "output_type": "execute_result"
    }
   ],
   "source": [
    "X_test = mean_encoding_test(x_train, y_train, x_test, col = 'nom_2')\n",
    "X_test['nom_2_mean_enc'].describe()"
   ]
  },
  {
   "cell_type": "code",
   "execution_count": 34,
   "metadata": {},
   "outputs": [
    {
     "data": {
      "image/png": "[encoded data removed]",
      "text/plain": [
       "<Figure size 1000x600 with 1 Axes>"
      ]
     },
     "metadata": {},
     "output_type": "display_data"
    }
   ],
   "source": [
    "plt.figure(figsize=(10, 6))\n",
    "plt.hist(X_test['nom_2_mean_enc'], color='blue', bins=20)\n",
    "plt.title(f'Histogram of Mean Encodings for nom_2(Testing)')\n",
    "plt.xlabel('Mean Encodings')\n",
    "plt.ylabel('Frequency')\n",
    "plt.show()"
   ]
  },
  {
   "cell_type": "code",
   "execution_count": null,
   "metadata": {},
   "outputs": [],
   "source": []
  }
 ],
 "metadata": {
  "kernelspec": {
   "display_name": "Python 3 (ipykernel)",
   "language": "python",
   "name": "python3"
  },
  "language_info": {
   "codemirror_mode": {
    "name": "ipython",
    "version": 3
   },
   "file_extension": ".py",
   "mimetype": "text/x-python",
   "name": "python",
   "nbconvert_exporter": "python",
   "pygments_lexer": "ipython3",
   "version": "3.11.5"
  }
 },
 "nbformat": 4,
 "nbformat_minor": 2
}
